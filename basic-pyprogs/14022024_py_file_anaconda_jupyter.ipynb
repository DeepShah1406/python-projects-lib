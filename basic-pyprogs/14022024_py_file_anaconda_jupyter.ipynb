{
 "cells": [
  {
   "cell_type": "code",
   "execution_count": 1,
   "id": "8d88f9ad",
   "metadata": {},
   "outputs": [],
   "source": [
    "list1 = list([1,2,3,\"hello\"])"
   ]
  },
  {
   "cell_type": "code",
   "execution_count": 2,
   "id": "fadfdcb0",
   "metadata": {},
   "outputs": [
    {
     "name": "stdout",
     "output_type": "stream",
     "text": [
      "[1, 2, 3, 'hello']\n"
     ]
    }
   ],
   "source": [
    "print (list1)"
   ]
  },
  {
   "cell_type": "code",
   "execution_count": 3,
   "id": "6f929b34",
   "metadata": {},
   "outputs": [],
   "source": [
    "list2  =list(range(1,100))"
   ]
  },
  {
   "cell_type": "code",
   "execution_count": 4,
   "id": "612b3c20",
   "metadata": {},
   "outputs": [
    {
     "name": "stdout",
     "output_type": "stream",
     "text": [
      "[1, 2, 3, 4, 5, 6, 7, 8, 9, 10, 11, 12, 13, 14, 15, 16, 17, 18, 19, 20, 21, 22, 23, 24, 25, 26, 27, 28, 29, 30, 31, 32, 33, 34, 35, 36, 37, 38, 39, 40, 41, 42, 43, 44, 45, 46, 47, 48, 49, 50, 51, 52, 53, 54, 55, 56, 57, 58, 59, 60, 61, 62, 63, 64, 65, 66, 67, 68, 69, 70, 71, 72, 73, 74, 75, 76, 77, 78, 79, 80, 81, 82, 83, 84, 85, 86, 87, 88, 89, 90, 91, 92, 93, 94, 95, 96, 97, 98, 99]\n"
     ]
    }
   ],
   "source": [
    "print(list2)"
   ]
  },
  {
   "cell_type": "code",
   "execution_count": 5,
   "id": "59e660df",
   "metadata": {},
   "outputs": [
    {
     "name": "stdout",
     "output_type": "stream",
     "text": [
      "[0, 10, 20, 30, 40, 50, 60, 70, 80, 90]\n"
     ]
    }
   ],
   "source": [
    "list3 = list(range(0,100,10))\n",
    "print(list3)"
   ]
  },
  {
   "cell_type": "code",
   "execution_count": 6,
   "id": "cfbd42f6",
   "metadata": {},
   "outputs": [],
   "source": [
    "list4 = [4,5,6]"
   ]
  },
  {
   "cell_type": "code",
   "execution_count": 7,
   "id": "f5ef22bf",
   "metadata": {},
   "outputs": [
    {
     "name": "stdout",
     "output_type": "stream",
     "text": [
      "[1, 2, 3, 'hello', 4, 5, 6]\n"
     ]
    }
   ],
   "source": [
    "list5 = list1 + list4\n",
    "print(list5)"
   ]
  },
  {
   "cell_type": "code",
   "execution_count": 8,
   "id": "be51a5ae",
   "metadata": {},
   "outputs": [],
   "source": [
    "list6 = list4*2"
   ]
  },
  {
   "cell_type": "code",
   "execution_count": 9,
   "id": "5fbde68e",
   "metadata": {},
   "outputs": [
    {
     "name": "stdout",
     "output_type": "stream",
     "text": [
      "[4, 5, 6, 4, 5, 6]\n"
     ]
    }
   ],
   "source": [
    "print(list6)"
   ]
  },
  {
   "cell_type": "code",
   "execution_count": 10,
   "id": "da8c02f5",
   "metadata": {},
   "outputs": [],
   "source": [
    "t1 = (101,102,\"hello\",103,\"hi\",[1,2,3,4,\"five\"])"
   ]
  },
  {
   "cell_type": "code",
   "execution_count": 11,
   "id": "8e07c9b5",
   "metadata": {},
   "outputs": [
    {
     "name": "stdout",
     "output_type": "stream",
     "text": [
      "(101, 102, 'hello', 103, 'hi', [1, 2, 3, 4, 'five'])\n"
     ]
    }
   ],
   "source": [
    "print(t1)"
   ]
  },
  {
   "cell_type": "code",
   "execution_count": 12,
   "id": "d54f9c49",
   "metadata": {},
   "outputs": [
    {
     "data": {
      "text/plain": [
       "6"
      ]
     },
     "execution_count": 12,
     "metadata": {},
     "output_type": "execute_result"
    }
   ],
   "source": [
    "len(t1)"
   ]
  },
  {
   "cell_type": "code",
   "execution_count": 13,
   "id": "6c9425e8",
   "metadata": {},
   "outputs": [
    {
     "data": {
      "text/plain": [
       "3"
      ]
     },
     "execution_count": 13,
     "metadata": {},
     "output_type": "execute_result"
    }
   ],
   "source": [
    "len((1,2,3))"
   ]
  },
  {
   "cell_type": "code",
   "execution_count": 15,
   "id": "c964ae06",
   "metadata": {},
   "outputs": [
    {
     "name": "stdout",
     "output_type": "stream",
     "text": [
      "1\n",
      "2\n",
      "3\n"
     ]
    }
   ],
   "source": [
    "for x in (1, 2, 3): print (x)"
   ]
  },
  {
   "cell_type": "code",
   "execution_count": 17,
   "id": "70084e53",
   "metadata": {},
   "outputs": [],
   "source": [
    "L = ('spam', 'Spam', 'SPAM!')"
   ]
  },
  {
   "cell_type": "code",
   "execution_count": 21,
   "id": "e3513601",
   "metadata": {},
   "outputs": [
    {
     "name": "stdout",
     "output_type": "stream",
     "text": [
      "('spam', 'Spam', 'SPAM!')\n"
     ]
    }
   ],
   "source": [
    "print(L)"
   ]
  },
  {
   "cell_type": "code",
   "execution_count": 25,
   "id": "66abc339",
   "metadata": {},
   "outputs": [
    {
     "data": {
      "text/plain": [
       "'SPAM!'"
      ]
     },
     "execution_count": 25,
     "metadata": {},
     "output_type": "execute_result"
    }
   ],
   "source": [
    "L[2]"
   ]
  },
  {
   "cell_type": "code",
   "execution_count": 26,
   "id": "2e6cdf53",
   "metadata": {},
   "outputs": [
    {
     "data": {
      "text/plain": [
       "'SPAM!'"
      ]
     },
     "execution_count": 26,
     "metadata": {},
     "output_type": "execute_result"
    }
   ],
   "source": [
    "L[-1]"
   ]
  },
  {
   "cell_type": "code",
   "execution_count": 27,
   "id": "253bba50",
   "metadata": {},
   "outputs": [
    {
     "data": {
      "text/plain": [
       "('Spam', 'SPAM!')"
      ]
     },
     "execution_count": 27,
     "metadata": {},
     "output_type": "execute_result"
    }
   ],
   "source": [
    "L[1:]"
   ]
  },
  {
   "cell_type": "code",
   "execution_count": 28,
   "id": "a74df82d",
   "metadata": {},
   "outputs": [
    {
     "data": {
      "text/plain": [
       "'spam'"
      ]
     },
     "execution_count": 28,
     "metadata": {},
     "output_type": "execute_result"
    }
   ],
   "source": [
    "L[0]"
   ]
  },
  {
   "cell_type": "code",
   "execution_count": 29,
   "id": "efb59e99",
   "metadata": {},
   "outputs": [
    {
     "name": "stdout",
     "output_type": "stream",
     "text": [
      "{'Mon', 'Tue', 'Sun', 'Fri', 'Thu', 'Wed', 'Sat'}\n",
      "{'Feb', 'Jan', 'Mar'}\n",
      "{17, 21, 22}\n"
     ]
    }
   ],
   "source": [
    "Days=set([\"Mon\",\"Tue\",\"Wed\",\"Thu\",\"Fri\",\"Sat\",\"Sun\"])\n",
    "Months={\"Jan\",\"Feb\",\"Mar\"}\n",
    "Dates={21,22,17}\n",
    "print(Days)\n",
    "print(Months)\n",
    "print(Dates)"
   ]
  },
  {
   "cell_type": "code",
   "execution_count": 30,
   "id": "a55df8cf",
   "metadata": {},
   "outputs": [
    {
     "name": "stdout",
     "output_type": "stream",
     "text": [
      "Mon\n",
      "Tue\n",
      "Sun\n",
      "Fri\n",
      "Thu\n",
      "Wed\n",
      "Sat\n"
     ]
    }
   ],
   "source": [
    "for d in Days: print(d)"
   ]
  },
  {
   "cell_type": "code",
   "execution_count": 31,
   "id": "b2fb3e26",
   "metadata": {},
   "outputs": [],
   "source": [
    "Days.discard(\"Sun\")"
   ]
  },
  {
   "cell_type": "code",
   "execution_count": 32,
   "id": "17cff4af",
   "metadata": {},
   "outputs": [
    {
     "name": "stdout",
     "output_type": "stream",
     "text": [
      "{'Mon', 'Tue', 'Fri', 'Thu', 'Wed', 'Sat'}\n"
     ]
    }
   ],
   "source": [
    "print(Days)"
   ]
  },
  {
   "cell_type": "code",
   "execution_count": 33,
   "id": "68307bce",
   "metadata": {},
   "outputs": [
    {
     "data": {
      "text/plain": [
       "{'Fri', 'Mon', 'Sat', 'Thu', 'Tue', 'Wed'}"
      ]
     },
     "execution_count": 33,
     "metadata": {},
     "output_type": "execute_result"
    }
   ],
   "source": [
    "Days"
   ]
  },
  {
   "cell_type": "code",
   "execution_count": 51,
   "id": "2c829f08",
   "metadata": {},
   "outputs": [],
   "source": [
    "DaysA = set([\"Mon\",\"Tue\",\"Wed\"])\n",
    "DaysB = set([\"Mon\",\"Tue\",\"Wed\",\"Thu\",\"Fri\",\"Sat\",\"Sun\"]) "
   ]
  },
  {
   "cell_type": "code",
   "execution_count": 73,
   "id": "5be81d94",
   "metadata": {},
   "outputs": [
    {
     "data": {
      "text/plain": [
       "{'Fri', 'Mon', 'Sat', 'Sun', 'Thu', 'Tue', 'Wed'}"
      ]
     },
     "execution_count": 73,
     "metadata": {},
     "output_type": "execute_result"
    }
   ],
   "source": [
    "DaysB"
   ]
  },
  {
   "cell_type": "code",
   "execution_count": 43,
   "id": "5e014a87",
   "metadata": {},
   "outputs": [
    {
     "name": "stdout",
     "output_type": "stream",
     "text": [
      "{'Mon', 'Tue'}\n"
     ]
    }
   ],
   "source": [
    "print(AllDays)"
   ]
  },
  {
   "cell_type": "code",
   "execution_count": 44,
   "id": "d56cd3ad",
   "metadata": {},
   "outputs": [
    {
     "data": {
      "text/plain": [
       "{'Mon', 'Tue'}"
      ]
     },
     "execution_count": 44,
     "metadata": {},
     "output_type": "execute_result"
    }
   ],
   "source": [
    "AllDays"
   ]
  },
  {
   "cell_type": "code",
   "execution_count": 52,
   "id": "b6519a55",
   "metadata": {},
   "outputs": [],
   "source": [
    "SubsetRes = DaysA <= DaysB\n",
    "SupersetRes = DaysB >= DaysA "
   ]
  },
  {
   "cell_type": "code",
   "execution_count": 53,
   "id": "23ad30c2",
   "metadata": {},
   "outputs": [
    {
     "name": "stdout",
     "output_type": "stream",
     "text": [
      "True\n"
     ]
    }
   ],
   "source": [
    "print(SubsetRes)"
   ]
  },
  {
   "cell_type": "code",
   "execution_count": 54,
   "id": "0a6d0805",
   "metadata": {},
   "outputs": [
    {
     "name": "stdout",
     "output_type": "stream",
     "text": [
      "True\n"
     ]
    }
   ],
   "source": [
    "print(SupersetRes)"
   ]
  },
  {
   "cell_type": "code",
   "execution_count": 55,
   "id": "f550a280",
   "metadata": {},
   "outputs": [
    {
     "name": "stdout",
     "output_type": "stream",
     "text": [
      "{1, 3}\n"
     ]
    }
   ],
   "source": [
    "my_set = {1,3}\n",
    "print(my_set)"
   ]
  },
  {
   "cell_type": "code",
   "execution_count": 56,
   "id": "4f161fab",
   "metadata": {},
   "outputs": [
    {
     "ename": "TypeError",
     "evalue": "'set' object is not subscriptable",
     "output_type": "error",
     "traceback": [
      "\u001b[1;31m---------------------------------------------------------------------------\u001b[0m",
      "\u001b[1;31mTypeError\u001b[0m                                 Traceback (most recent call last)",
      "Cell \u001b[1;32mIn[56], line 1\u001b[0m\n\u001b[1;32m----> 1\u001b[0m my_set[\u001b[38;5;241m0\u001b[39m]\n",
      "\u001b[1;31mTypeError\u001b[0m: 'set' object is not subscriptable"
     ]
    }
   ],
   "source": [
    "my_set[0]"
   ]
  },
  {
   "cell_type": "code",
   "execution_count": 59,
   "id": "41e3f263",
   "metadata": {},
   "outputs": [
    {
     "name": "stdout",
     "output_type": "stream",
     "text": [
      "{1, 2, 3}\n"
     ]
    }
   ],
   "source": [
    "my_set.add(2)\n",
    "print(my_set)"
   ]
  },
  {
   "cell_type": "code",
   "execution_count": 60,
   "id": "d01dc7bf",
   "metadata": {},
   "outputs": [
    {
     "name": "stdout",
     "output_type": "stream",
     "text": [
      "{1, 2, 3, 4}\n"
     ]
    }
   ],
   "source": [
    "my_set.update([2,3,4])\n",
    "print(my_set)"
   ]
  },
  {
   "cell_type": "code",
   "execution_count": 61,
   "id": "4ca7677b",
   "metadata": {},
   "outputs": [
    {
     "name": "stdout",
     "output_type": "stream",
     "text": [
      "{1, 2, 3, 4, 5, 6, 8}\n"
     ]
    }
   ],
   "source": [
    "my_set.update([4,5], {1,6,8})\n",
    "print(my_set)"
   ]
  },
  {
   "cell_type": "code",
   "execution_count": 62,
   "id": "9223e40e",
   "metadata": {},
   "outputs": [
    {
     "data": {
      "text/plain": [
       "{1, 2, 3, 4, 5, 6, 8}"
      ]
     },
     "execution_count": 62,
     "metadata": {},
     "output_type": "execute_result"
    }
   ],
   "source": [
    "my_set"
   ]
  },
  {
   "cell_type": "code",
   "execution_count": 71,
   "id": "48c5bdaa",
   "metadata": {},
   "outputs": [
    {
     "data": {
      "text/plain": [
       "7"
      ]
     },
     "execution_count": 71,
     "metadata": {},
     "output_type": "execute_result"
    }
   ],
   "source": [
    "len(DaysB)"
   ]
  },
  {
   "cell_type": "code",
   "execution_count": 72,
   "id": "3e871ac8",
   "metadata": {},
   "outputs": [
    {
     "name": "stdout",
     "output_type": "stream",
     "text": [
      "{20: [50, 60], 30: [80, 90]}\n"
     ]
    }
   ],
   "source": [
    "d1={20:[50,60],30:[80,90]}\n",
    "print(d1)"
   ]
  },
  {
   "cell_type": "code",
   "execution_count": null,
   "id": "b358c284",
   "metadata": {},
   "outputs": [],
   "source": [
    "d1.update()"
   ]
  },
  {
   "cell_type": "code",
   "execution_count": 75,
   "id": "14c41b0b",
   "metadata": {},
   "outputs": [],
   "source": [
    "d2={10:[100,200],60:[300,400]}"
   ]
  },
  {
   "cell_type": "code",
   "execution_count": 76,
   "id": "ecd7ed7f",
   "metadata": {},
   "outputs": [],
   "source": [
    "dict1={}\n",
    "sub={114:\"SEP\",115:\".NET\",116:\"MPSP\"}\n",
    "marks={'name':\"ABC\",116:[23,67]}"
   ]
  },
  {
   "cell_type": "code",
   "execution_count": 77,
   "id": "10feabfb",
   "metadata": {},
   "outputs": [
    {
     "data": {
      "text/plain": [
       "{}"
      ]
     },
     "execution_count": 77,
     "metadata": {},
     "output_type": "execute_result"
    }
   ],
   "source": [
    "dict1"
   ]
  },
  {
   "cell_type": "code",
   "execution_count": 88,
   "id": "78492ada",
   "metadata": {},
   "outputs": [
    {
     "data": {
      "text/plain": [
       "{114: 'SEP', 115: '.NET', 116: 'Python'}"
      ]
     },
     "execution_count": 88,
     "metadata": {},
     "output_type": "execute_result"
    }
   ],
   "source": [
    "sub"
   ]
  },
  {
   "cell_type": "code",
   "execution_count": 79,
   "id": "154066a1",
   "metadata": {},
   "outputs": [
    {
     "data": {
      "text/plain": [
       "{'name': 'ABC', 116: [23, 67]}"
      ]
     },
     "execution_count": 79,
     "metadata": {},
     "output_type": "execute_result"
    }
   ],
   "source": [
    "marks"
   ]
  },
  {
   "cell_type": "code",
   "execution_count": 82,
   "id": "aafc7702",
   "metadata": {},
   "outputs": [
    {
     "name": "stdout",
     "output_type": "stream",
     "text": [
      "MPSP\n"
     ]
    }
   ],
   "source": [
    "print(sub[116]) "
   ]
  },
  {
   "cell_type": "code",
   "execution_count": 83,
   "id": "7156994c",
   "metadata": {},
   "outputs": [
    {
     "name": "stdout",
     "output_type": "stream",
     "text": [
      "MPSP\n"
     ]
    }
   ],
   "source": [
    "print(sub.get(116))"
   ]
  },
  {
   "cell_type": "code",
   "execution_count": 85,
   "id": "a24d3de5",
   "metadata": {},
   "outputs": [
    {
     "data": {
      "text/plain": [
       "'MPSP'"
      ]
     },
     "execution_count": 85,
     "metadata": {},
     "output_type": "execute_result"
    }
   ],
   "source": [
    "sub[116]"
   ]
  },
  {
   "cell_type": "code",
   "execution_count": 87,
   "id": "30b3f780",
   "metadata": {},
   "outputs": [],
   "source": [
    "sub[116]=\"Python\""
   ]
  },
  {
   "cell_type": "code",
   "execution_count": 89,
   "id": "1767b5a7",
   "metadata": {},
   "outputs": [
    {
     "name": "stdout",
     "output_type": "stream",
     "text": [
      "114\n",
      "115\n",
      "116\n",
      "SEP\n",
      ".NET\n",
      "Python\n",
      "114 SEP\n",
      "115 .NET\n",
      "116 Python\n"
     ]
    }
   ],
   "source": [
    "for i in sub:\n",
    "    print(i)\n",
    "for val in sub.values():\n",
    "    print(val)\n",
    "for x,y in sub.items():\n",
    "    print(x,y)"
   ]
  },
  {
   "cell_type": "code",
   "execution_count": 90,
   "id": "bf8ef61a",
   "metadata": {},
   "outputs": [
    {
     "name": "stdout",
     "output_type": "stream",
     "text": [
      "3\n"
     ]
    }
   ],
   "source": [
    "print(len(sub))"
   ]
  },
  {
   "cell_type": "code",
   "execution_count": 99,
   "id": "98ec1ff8",
   "metadata": {},
   "outputs": [],
   "source": [
    "sub[117]=\"DT\""
   ]
  },
  {
   "cell_type": "code",
   "execution_count": 96,
   "id": "de6023c9",
   "metadata": {},
   "outputs": [
    {
     "data": {
      "text/plain": [
       "{114: 'SEP', 115: '.NET', 116: 'Python', 117: 'DT'}"
      ]
     },
     "execution_count": 96,
     "metadata": {},
     "output_type": "execute_result"
    }
   ],
   "source": [
    "sub"
   ]
  },
  {
   "cell_type": "code",
   "execution_count": 101,
   "id": "8244b2dd",
   "metadata": {},
   "outputs": [
    {
     "data": {
      "text/plain": [
       "'DT'"
      ]
     },
     "execution_count": 101,
     "metadata": {},
     "output_type": "execute_result"
    }
   ],
   "source": [
    "sub.pop(117) "
   ]
  },
  {
   "cell_type": "code",
   "execution_count": 102,
   "id": "7df109df",
   "metadata": {},
   "outputs": [
    {
     "data": {
      "text/plain": [
       "{114: 'SEP', 115: '.NET', 116: 'Python'}"
      ]
     },
     "execution_count": 102,
     "metadata": {},
     "output_type": "execute_result"
    }
   ],
   "source": [
    "sub"
   ]
  },
  {
   "cell_type": "code",
   "execution_count": 97,
   "id": "ede5765b",
   "metadata": {},
   "outputs": [],
   "source": [
    "del sub[117] "
   ]
  },
  {
   "cell_type": "code",
   "execution_count": 98,
   "id": "adfdc8e2",
   "metadata": {},
   "outputs": [
    {
     "data": {
      "text/plain": [
       "{114: 'SEP', 115: '.NET', 116: 'Python'}"
      ]
     },
     "execution_count": 98,
     "metadata": {},
     "output_type": "execute_result"
    }
   ],
   "source": [
    "sub"
   ]
  },
  {
   "cell_type": "code",
   "execution_count": 103,
   "id": "e75bf693",
   "metadata": {},
   "outputs": [
    {
     "name": "stdout",
     "output_type": "stream",
     "text": [
      "{114: 'SEP', 115: '.NET', 116: 'Python'}\n"
     ]
    }
   ],
   "source": [
    "copysub=sub.copy()\n",
    "print(copysub)"
   ]
  },
  {
   "cell_type": "code",
   "execution_count": 104,
   "id": "141cdc11",
   "metadata": {},
   "outputs": [
    {
     "data": {
      "text/plain": [
       "{114: 'SEP', 115: '.NET', 116: 'Python'}"
      ]
     },
     "execution_count": 104,
     "metadata": {},
     "output_type": "execute_result"
    }
   ],
   "source": [
    "copysub"
   ]
  },
  {
   "cell_type": "code",
   "execution_count": 114,
   "id": "93e47425",
   "metadata": {},
   "outputs": [
    {
     "name": "stdout",
     "output_type": "stream",
     "text": [
      "Hey Deep!!\n"
     ]
    }
   ],
   "source": [
    "def hello(name):\n",
    "    return 'Hey\\t'+name+'!!'\n",
    "print(hello('Deep'))"
   ]
  },
  {
   "cell_type": "code",
   "execution_count": 121,
   "id": "07beb454",
   "metadata": {},
   "outputs": [
    {
     "name": "stdout",
     "output_type": "stream",
     "text": [
      "c is greater and no is 3\n"
     ]
    }
   ],
   "source": [
    "def max(a,b,c):\n",
    "    if(a>b and a>c):\n",
    "        print(\"a is greater \", \"and no is\", a)\n",
    "    elif(b>a and b>c):\n",
    "        print(\"b is greater \" \"and no is\", b)\n",
    "    else:\n",
    "        print(\"c is greater \" \"and no is\", c)\n",
    "        \n",
    "no=max(1,2,3)"
   ]
  },
  {
   "cell_type": "code",
   "execution_count": 123,
   "id": "15d14e0b",
   "metadata": {},
   "outputs": [
    {
     "name": "stdout",
     "output_type": "stream",
     "text": [
      "The Number is Even 6\n"
     ]
    }
   ],
   "source": [
    "def oddeven(x):\n",
    "    if(x%2==0):\n",
    "        print(\"The Number is Even\", x)\n",
    "    else:\n",
    "        print(\"The Number is Odd\", x)\n",
    "    \n",
    "num=oddeven(6)"
   ]
  },
  {
   "cell_type": "code",
   "execution_count": 127,
   "id": "5ebd298b",
   "metadata": {},
   "outputs": [
    {
     "name": "stdout",
     "output_type": "stream",
     "text": [
      "cmpica   charusat\n"
     ]
    }
   ],
   "source": [
    "def printName(fnm,lnm,reverse):\n",
    "    if reverse:\n",
    "        print(lnm+\"   \"+fnm)\n",
    "    else:\n",
    "        print(fnm+\"   \"+lnm)\n",
    "\n",
    "printName('charusat','cmpica',True)"
   ]
  },
  {
   "cell_type": "code",
   "execution_count": 130,
   "id": "ca5f4642",
   "metadata": {},
   "outputs": [],
   "source": [
    "def adder(*num):\n",
    "    print(\"type of num is:\",type(num))\n",
    "    sum = 0\n",
    "    for n in num:\n",
    "        sum = sum + n\n",
    "        print(\"Sum:\",sum)"
   ]
  },
  {
   "cell_type": "code",
   "execution_count": 133,
   "id": "8ec58e9e",
   "metadata": {},
   "outputs": [
    {
     "name": "stdout",
     "output_type": "stream",
     "text": [
      "type of num is: <class 'tuple'>\n",
      "Sum: 2\n",
      "Sum: 6\n",
      "Sum: 11\n"
     ]
    }
   ],
   "source": [
    "adder(2,4,5)"
   ]
  },
  {
   "cell_type": "code",
   "execution_count": null,
   "id": "95ce86f2",
   "metadata": {},
   "outputs": [],
   "source": []
  },
  {
   "cell_type": "code",
   "execution_count": null,
   "id": "1a4d109f",
   "metadata": {},
   "outputs": [],
   "source": []
  }
 ],
 "metadata": {
  "kernelspec": {
   "display_name": "Python 3 (ipykernel)",
   "language": "python",
   "name": "python3"
  },
  "language_info": {
   "codemirror_mode": {
    "name": "ipython",
    "version": 3
   },
   "file_extension": ".py",
   "mimetype": "text/x-python",
   "name": "python",
   "nbconvert_exporter": "python",
   "pygments_lexer": "ipython3",
   "version": "3.11.5"
  }
 },
 "nbformat": 4,
 "nbformat_minor": 5
}
